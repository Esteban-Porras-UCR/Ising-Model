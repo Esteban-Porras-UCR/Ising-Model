{
 "cells": [
  {
   "cell_type": "code",
   "execution_count": null,
   "id": "08a89db9-bc03-4ad8-8340-24bfcb4f3b7e",
   "metadata": {},
   "outputs": [],
   "source": [
    "!conda install numba\n"
   ]
  },
  {
   "cell_type": "code",
   "execution_count": 1,
   "id": "55ca3c16",
   "metadata": {},
   "outputs": [],
   "source": [
    "import numpy as np\n",
    "import matplotlib.pyplot as plt\n",
    "import time\n"
   ]
  },
  {
   "cell_type": "markdown",
   "id": "e379b33b",
   "metadata": {},
   "source": [
    "Importamos las librerías necesarias (Falta explicarlas)"
   ]
  },
  {
   "cell_type": "code",
   "execution_count": 2,
   "id": "7fb0743b-1362-4172-a195-0e2d44105c57",
   "metadata": {},
   "outputs": [],
   "source": [
    "class Hamiltoniano:\n",
    "    def __init__(self, N, J, G, matrices_pauli):\n",
    "        self.N = N  # Número de spins (o iteraciones)\n",
    "        self.J = J  # Interacción entre spins\n",
    "        self.G = G  # Campo magnético\n",
    "        self.pauli_x, self.pauli_y, self.pauli_z, self.identidad = matrices_pauli\n",
    "        # Inicializa el Hamiltoniano como una matriz de ceros de tamaño 2^N x 2^N\n",
    "        self.Hamiltoniano = np.zeros((2**N, 2**N)) \n",
    "\n",
    "    # Método para calcular el producto directo de matrices\n",
    "    def productodirecto(self, lista_matrices):\n",
    "        resultado = lista_matrices[0]  # Inicializa el resultado con la primera matriz\n",
    "        for k in lista_matrices[1:]:  # Itera sobre las matrices restantes\n",
    "            resultado = np.kron(resultado, k)  # Calcula el producto de Kronecker\n",
    "        return resultado\n",
    "    \n",
    "    # Método para construir el Hamiltoniano del modelo Ising\n",
    "    def creacion_Hamiltoniano(self):\n",
    "        # Parte del Hamiltoniano relacionada con pauli_z\n",
    "        for i in range(self.N - 1):\n",
    "            lista_matrices = [self.identidad] * self.N  # Crea una lista con N matrices identidad\n",
    "            lista_matrices[i] = self.pauli_z  # Sustituye la i-ésima posición por la matriz pauli_z\n",
    "            lista_matrices[i + 1] = self.pauli_z  # Sustituye la (i+1)-ésima posición por la matriz pauli_z\n",
    "            # Actualiza el Hamiltoniano restando la contribución de la interacción entre spins\n",
    "            self.Hamiltoniano -= self.J * self.productodirecto(lista_matrices)  \n",
    "\n",
    "        # Parte del Hamiltoniano relacionada con el pauli_x\n",
    "        for i in range(self.N):\n",
    "            lista_matrices = [self.identidad] * self.N  # Crea otra lista con N matrices identidad\n",
    "            lista_matrices[i] = self.pauli_x  # Sustituye la i-ésima posición por la matriz pauli_x\n",
    "            # Actualiza el Hamiltoniano restando la contribución del campo magnético\n",
    "            self.Hamiltoniano -= self.G * self.productodirecto(lista_matrices) \n",
    "        \n",
    "    # Método para mostrar el Hamiltoniano\n",
    "    def mostrar_Hamiltoniano(self):\n",
    "        print(self.Hamiltoniano)  # Imprime el Hamiltoniano"
   ]
  },
  {
   "cell_type": "markdown",
   "id": "66b1d2b3",
   "metadata": {},
   "source": [
    "Creamos una clase llamada Hamiltoniano"
   ]
  },
  {
   "cell_type": "code",
   "execution_count": 3,
   "id": "dfe128ee",
   "metadata": {},
   "outputs": [],
   "source": [
    "# Definición de las matrices de Pauli y la matriz identidad\n",
    "paulix = np.array([[0, 1],\n",
    "                    [1, 0]])  # Matriz de Pauli X\n",
    "pauliy = np.array([[0, 1j],\n",
    "                    [-1j, 0]])  # Matriz de Pauli Y\n",
    "pauliz = np.array([[1, 0],\n",
    "                    [0, -1]])  # Matriz de Pauli Z\n",
    "identidad = np.eye(2)  # Matriz identidad de 2x2\n",
    "\n",
    "Matrices = [paulix, pauliy, pauliz, identidad] # Lista con las matrices necesarias"
   ]
  },
  {
   "cell_type": "markdown",
   "id": "e9d8e3ec",
   "metadata": {},
   "source": [
    "Definimos las matrices de Pauli y la identidad. Las guardamos en una lista para pasarlas como argumento del Hamiltoniano"
   ]
  },
  {
   "cell_type": "code",
   "execution_count": 4,
   "id": "1bfd3673",
   "metadata": {},
   "outputs": [
    {
     "name": "stdout",
     "output_type": "stream",
     "text": [
      "[[ 0. -1.]\n",
      " [-1.  0.]]\n"
     ]
    }
   ],
   "source": [
    "# Parámetros del modelo Ising\n",
    "N = 1\n",
    "J = 1.0  \n",
    "G = 1.0  \n",
    "\n",
    "# Cálculo del Hamiltoniano\n",
    "Hamilton = Hamiltoniano(N, J, G, Matrices)  # Crea una instancia de la clase Hamiltoniano\n",
    "Hamilton.creacion_Hamiltoniano()  # Construye el Hamiltoniano\n",
    "Hamilton.mostrar_Hamiltoniano()  # Imprime el Hamiltoniano"
   ]
  },
  {
   "cell_type": "markdown",
   "id": "5519829f",
   "metadata": {},
   "source": [
    "Creamos el Hamiltoniano. Ahora procederemos a utilizarlo para resolver la ecuación diferencial utilizando el método RK4"
   ]
  },
  {
   "cell_type": "code",
   "execution_count": null,
   "id": "b05a39de-3b32-4e21-b17f-cb457e4ce98f",
   "metadata": {},
   "outputs": [],
   "source": [
    "# Definición de la ecuación de Schrödinger\n",
    "def Ec_Schrodinger(H, onda):\n",
    "    return -1j * np.dot(H, onda) \n",
    "\n",
    "# Método de Runge-Kutta de cuarto orden (RK4)\n",
    "def rk4(func, H, onda, h):\n",
    "    k1 = h * func(H, onda)\n",
    "    k2 = h * func(H, onda + 0.5 * k1)\n",
    "    k3 = h * func(H, onda + 0.5 * k2)\n",
    "    k4 = h * func(H, onda + k3)\n",
    "    \n",
    "    return onda + (1/6) * (k1 + 2 * k2 + 2 * k3 + k4)\n",
    "\n",
    "@njit(parallel=True)\n",
    "def evolucion_tiempo(times, onda, h, H):\n",
    "    resultado = np.zeros(times.size)\n",
    "    for i in prange(times.size):  # Aquí usamos prange para paralelizar el bucle\n",
    "        resultado[i] = onda[0].real\n",
    "        onda = rk4(Ec_Schrodinger, H, onda, h)\n",
    "    return resultado\n",
    "print(f\"Tiempo que duró: {time.time() - t1}\") # Tiempo que duró en realizarse el método\n",
    "\n",
    "\n",
    "# Configuración de tiempos y condiciones iniciales\n",
    "times = np.linspace(0.0, 10.0, 1024) # Tiempo\n",
    "h = times[1] - times[0] # Espaciamiento\n",
    "onda = np.zeros(2**N, dtype=complex) \n",
    "\n",
    "onda[0] = 1.0 # Estado inicial de la onda\n",
    "\n",
    "# Evolución en el tiempo\n",
    "t1 = time.time() # Para medir cuanto dura el método\n",
    "\n",
    "\n",
    "# Gráfica del resultado\n",
    "plt.plot(times, resultado, label=\"Parte real de Psi(t)\", color='b')\n",
    "plt.xlabel(\"Tiempo (t)\", fontsize=12)\n",
    "plt.ylabel(\"Re[Psi(t)]\", fontsize=12)\n",
    "plt.legend()\n",
    "plt.show()\n"
   ]
  },
  {
   "cell_type": "code",
   "execution_count": 8,
   "id": "1d2605a9-666a-4bf1-8316-f1fafa4df856",
   "metadata": {},
   "outputs": [],
   "source": [
    "def evolucion_temporal(onda_inicial, t, autovalores, autovectores): #Función para evaluar la solución directamente,\n",
    "    #equivalente a la Ecuación (3) del documento de proyectos finales\n",
    "   \n",
    "    onda_nueva = np.dot(autovectores.conj().T, onda_inicial)\n",
    "    \n",
    "   \n",
    "    onda_t = np.dot(autovectores, np.exp(-1j * autovalores * t) * onda_nueva)\n",
    "    \n",
    "    return onda_t"
   ]
  },
  {
   "cell_type": "code",
   "execution_count": 10,
   "id": "2621839e",
   "metadata": {},
   "outputs": [
    {
     "name": "stdout",
     "output_type": "stream",
     "text": [
      "Tiempo de evolución temporal: 13.2289 s\n",
      "Tiempo total: 15.4015 s\n"
     ]
    }
   ],
   "source": [
    "onda_inicial = np.zeros(2**N, dtype=complex)  \n",
    "onda_inicial[0] = 1.0 \n",
    "tiempo_inicial = time.time()  \n",
    "autovalores, autovectores = np.linalg.eigh(Hamilton.Hamiltoniano) \n",
    "tiempo_diagonalización = time.time() - tiempo_inicial  \n",
    "\n",
    "\n",
    "resultado2 = np.zeros(times.size, dtype=complex)\n",
    "tiempo_inicial_evolucion = time.time() \n",
    "\n",
    "for i in range(times.size):\n",
    "    onda_t = evolucion_temporal(onda_inicial, times[i], autovalores, autovectores) \n",
    "    resultado2[i] = onda_t[0].real\n",
    "    \n",
    "    \n",
    "tiempo_evolucion = time.time() - tiempo_inicial_evolucion  \n",
    "print(f\"Tiempo de evolución temporal: {tiempo_evolucion:.4f} s\") \n",
    "print(f\"Tiempo total: {tiempo_diagonalización + tiempo_evolucion:.4f} s\")  \n",
    "     "
   ]
  },
  {
   "cell_type": "code",
   "execution_count": 11,
   "id": "896eac36",
   "metadata": {},
   "outputs": [
    {
     "data": {
      "image/png": "[encoded data removed]",
      "text/plain": [
       "<Figure size 640x480 with 1 Axes>"
      ]
     },
     "metadata": {},
     "output_type": "display_data"
    }
   ],
   "source": [
    "plt.figure()\n",
    "plt.plot(times,  resultado2.real, label=\"Parte real de Psi(t)\", color='r')  \n",
    "plt.xlabel('Tiempo')\n",
    "plt.ylabel(\"Re[Psi(t)]\", fontsize=12)\n",
    "plt.legend()\n",
    "plt.show()"
   ]
  },
  {
   "cell_type": "code",
   "execution_count": null,
   "id": "999faa84",
   "metadata": {},
   "outputs": [],
   "source": []
  }
 ],
 "metadata": {
  "kernelspec": {
   "display_name": "Python 3 (ipykernel)",
   "language": "python",
   "name": "python3"
  },
  "language_info": {
   "codemirror_mode": {
    "name": "ipython",
    "version": 3
   },
   "file_extension": ".py",
   "mimetype": "text/x-python",
   "name": "python",
   "nbconvert_exporter": "python",
   "pygments_lexer": "ipython3",
   "version": "3.12.3"
  }
 },
 "nbformat": 4,
 "nbformat_minor": 5
}
