{
 "cells": [
  {
   "cell_type": "code",
   "execution_count": 1,
   "id": "08a89db9-bc03-4ad8-8340-24bfcb4f3b7e",
   "metadata": {},
   "outputs": [],
   "source": [
    "import numpy as np"
   ]
  },
  {
   "cell_type": "code",
   "execution_count": 120,
   "id": "7fb0743b-1362-4172-a195-0e2d44105c57",
   "metadata": {},
   "outputs": [
    {
     "name": "stdout",
     "output_type": "stream",
     "text": [
      "[[-9. -1. -1. ...  0.  0.  0.]\n",
      " [-1. -7.  0. ...  0.  0.  0.]\n",
      " [-1.  0. -5. ...  0.  0.  0.]\n",
      " ...\n",
      " [ 0.  0.  0. ... -5.  0. -1.]\n",
      " [ 0.  0.  0. ...  0. -7. -1.]\n",
      " [ 0.  0.  0. ... -1. -1. -9.]]\n"
     ]
    }
   ],
   "source": [
    "pauli_x=np.array([[0,1],\n",
    "                  [1,0]])\n",
    "pauli_y=np.array([[0,1j],\n",
    "                  [-1j,0]])\n",
    "pauli_z=np.array([[1,0],\n",
    "                  [0,-1]])\n",
    "identidad=np.array([[1,0],\n",
    "                    [0,1]])\n",
    "\n",
    "def productodirecto(mat):\n",
    "    resultado = mat[0]\n",
    "    for k in mat[1:]:\n",
    "        resultado = np.kron(resultado, k)\n",
    "    return resultado\n",
    "    \n",
    "\n",
    "def Hamiltoniano_Ising(J,G,N):\n",
    "    Hamiltoniano=np.zeros((2**N,2**N))\n",
    "\n",
    "    for i in range(N-1):\n",
    "        mat = [identidad for j in range(N)]\n",
    "        mat[i] = pauli_z\n",
    "        mat[(i + 1)] = pauli_z\n",
    "        Hamiltoniano -= J * productodirecto(mat)\n",
    "\n",
    "    for i in range(N):\n",
    "        mat = [identidad for j in range(N)]\n",
    "        mat[i] = pauli_x\n",
    "        Hamiltoniano -= G * productodirecto(mat)\n",
    "    \n",
    "    return Hamiltoniano\n",
    "\n",
    "\n",
    "N=10\n",
    "J=1.0\n",
    "G=1.0\n",
    "H=Hamiltoniano_Ising(J,G,N)\n",
    "print(H)"
   ]
  },
  {
   "cell_type": "code",
   "execution_count": 118,
   "id": "b05a39de-3b32-4e21-b17f-cb457e4ce98f",
   "metadata": {},
   "outputs": [
    {
     "name": "stdout",
     "output_type": "stream",
     "text": [
      "[[-1. -1. -1.  0.]\n",
      " [-1.  1.  0. -1.]\n",
      " [-1.  0.  1. -1.]\n",
      " [ 0. -1. -1. -1.]]\n"
     ]
    }
   ],
   "source": [
    "N=2\n",
    "H=Hamiltoniano_Ising(J,G,N)\n",
    "print(H)\n"
   ]
  },
  {
   "cell_type": "code",
   "execution_count": null,
   "id": "1d2605a9-666a-4bf1-8316-f1fafa4df856",
   "metadata": {},
   "outputs": [],
   "source": [
    "R=np.kron(pauli_z,pauli_z)\n",
    "A=np.kron(pauli_x,identidad)\n",
    "C=np.kron(identidad,pauli_x)\n",
    "print((-R)-(A+C))"
   ]
  },
  {
   "cell_type": "code",
   "execution_count": null,
   "id": "8ac505b4-a433-46a1-afa6-bc7c68046cf7",
   "metadata": {},
   "outputs": [],
   "source": []
  },
  {
   "cell_type": "code",
   "execution_count": null,
   "id": "44192b92-846f-447e-95df-7e8f064cf078",
   "metadata": {},
   "outputs": [],
   "source": [
    "\n"
   ]
  },
  {
   "cell_type": "code",
   "execution_count": null,
   "id": "51a2ba6c-6ade-44b9-874c-ed1c60a5c36e",
   "metadata": {},
   "outputs": [],
   "source": [
    "\n",
    "\n"
   ]
  },
  {
   "cell_type": "code",
   "execution_count": null,
   "id": "2345f3e5-f449-44b0-aaa4-d232a70cad32",
   "metadata": {},
   "outputs": [],
   "source": []
  }
 ],
 "metadata": {
  "kernelspec": {
   "display_name": "Python 3 (ipykernel)",
   "language": "python",
   "name": "python3"
  },
  "language_info": {
   "codemirror_mode": {
    "name": "ipython",
    "version": 3
   },
   "file_extension": ".py",
   "mimetype": "text/x-python",
   "name": "python",
   "nbconvert_exporter": "python",
   "pygments_lexer": "ipython3",
   "version": "3.12.4"
  }
 },
 "nbformat": 4,
 "nbformat_minor": 5
}
