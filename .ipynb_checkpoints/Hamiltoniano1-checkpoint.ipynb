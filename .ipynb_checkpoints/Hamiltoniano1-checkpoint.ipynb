{
 "cells": [
  {
   "cell_type": "code",
   "execution_count": 7,
   "id": "08a89db9-bc03-4ad8-8340-24bfcb4f3b7e",
   "metadata": {},
   "outputs": [],
   "source": [
    "import numpy as np"
   ]
  },
  {
   "cell_type": "markdown",
   "id": "e379b33b",
   "metadata": {},
   "source": [
    "Importamos las librerías necesarias"
   ]
  },
  {
   "cell_type": "code",
   "execution_count": 8,
   "id": "7fb0743b-1362-4172-a195-0e2d44105c57",
   "metadata": {},
   "outputs": [],
   "source": [
    "class Hamiltoniano:\n",
    "    def __init__(self, N, J, G):\n",
    "        self.N = N  # Número de spins (o iteraciones)\n",
    "        self.J = J  # Interacción entre spins\n",
    "        self.G = G  # Campo magnético\n",
    "        # Inicializa el Hamiltoniano como una matriz de ceros de tamaño 2^N x 2^N\n",
    "        self.Hamiltoniano = np.zeros((2**N, 2**N)) \n",
    "\n",
    "    # Método para calcular el producto directo de matrices\n",
    "    def productodirecto(self, lista_matrices):\n",
    "        resultado = lista_matrices[0]  # Inicializa el resultado con la primera matriz\n",
    "        for k in lista_matrices[1:]:  # Itera sobre las matrices restantes\n",
    "            resultado = np.kron(resultado, k)  # Calcula el producto de Kronecker\n",
    "        return resultado\n",
    "    \n",
    "    # Método para construir el Hamiltoniano del modelo Ising\n",
    "    def creacion_Hamiltoniano(self):\n",
    "        # Parte del Hamiltoniano relacionada con pauli_z\n",
    "        for i in range(self.N - 1):\n",
    "            lista_matrices = [identidad] * self.N  # Crea una lista con N matrices identidad\n",
    "            lista_matrices[i] = pauli_z  # Sustituye la i-ésima posición por la matriz pauli_z\n",
    "            lista_matrices[i + 1] = pauli_z  # Sustituye la (i+1)-ésima posición por la matriz pauli_z\n",
    "            # Actualiza el Hamiltoniano restando la contribución de la interacción entre spins\n",
    "            self.Hamiltoniano -= self.J * self.productodirecto(lista_matrices)  \n",
    "\n",
    "        # Parte del Hamiltoniano relacionada con el pauli_x\n",
    "        for i in range(self.N):\n",
    "            lista_matrices = [identidad] * self.N  # Crea otra lista con N matrices identidad\n",
    "            lista_matrices[i] = pauli_x  # Sustituye la i-ésima posición por la matriz pauli_x\n",
    "            # Actualiza el Hamiltoniano restando la contribución del campo magnético\n",
    "            self.Hamiltoniano -= self.G * self.productodirecto(lista_matrices) \n",
    "        \n",
    "    # Método para mostrar el Hamiltoniano\n",
    "    def mostrar_Hamiltoniano(self):\n",
    "        print(self.Hamiltoniano)  # Imprime el Hamiltoniano"
   ]
  },
  {
   "cell_type": "markdown",
   "id": "66b1d2b3",
   "metadata": {},
   "source": [
    "Creamos una clase llamada Hamiltoniano"
   ]
  },
  {
   "cell_type": "code",
   "execution_count": 9,
   "id": "dfe128ee",
   "metadata": {},
   "outputs": [],
   "source": [
    "# Definición de las matrices de Pauli y la matriz identidad\n",
    "pauli_x = np.array([[0, 1],\n",
    "                    [1, 0]])  # Matriz de Pauli X\n",
    "pauli_y = np.array([[0, 1j],\n",
    "                    [-1j, 0]])  # Matriz de Pauli Y\n",
    "pauli_z = np.array([[1, 0],\n",
    "                    [0, -1]])  # Matriz de Pauli Z\n",
    "identidad = np.eye(2)  # Matriz identidad de 2x2"
   ]
  },
  {
   "cell_type": "markdown",
   "id": "e9d8e3ec",
   "metadata": {},
   "source": [
    "Definimos las matrices de Pauli y la identidad"
   ]
  },
  {
   "cell_type": "code",
   "execution_count": 10,
   "id": "1bfd3673",
   "metadata": {},
   "outputs": [
    {
     "name": "stdout",
     "output_type": "stream",
     "text": [
      "[[-9. -1. -1. ...  0.  0.  0.]\n",
      " [-1. -7.  0. ...  0.  0.  0.]\n",
      " [-1.  0. -5. ...  0.  0.  0.]\n",
      " ...\n",
      " [ 0.  0.  0. ... -5.  0. -1.]\n",
      " [ 0.  0.  0. ...  0. -7. -1.]\n",
      " [ 0.  0.  0. ... -1. -1. -9.]]\n"
     ]
    }
   ],
   "source": [
    "# Parámetros del modelo Ising\n",
    "N = 10  \n",
    "J = 1.0  \n",
    "G = 1.0  \n",
    "\n",
    "# Cálculo del Hamiltoniano\n",
    "Hamilton = Hamiltoniano(N, J, G)  # Crea una instancia de la clase Hamiltoniano\n",
    "Hamilton.creacion_Hamiltoniano()  # Construye el Hamiltoniano\n",
    "Hamilton.mostrar_Hamiltoniano()  # Imprime el Hamiltoniano"
   ]
  },
  {
   "cell_type": "markdown",
   "id": "5519829f",
   "metadata": {},
   "source": [
    "Ejecutamos el Hamiltoniano"
   ]
  },
  {
   "cell_type": "code",
   "execution_count": 11,
   "id": "b05a39de-3b32-4e21-b17f-cb457e4ce98f",
   "metadata": {},
   "outputs": [
    {
     "name": "stdout",
     "output_type": "stream",
     "text": [
      "[[-1. -1. -1.  0.]\n",
      " [-1.  1.  0. -1.]\n",
      " [-1.  0.  1. -1.]\n",
      " [ 0. -1. -1. -1.]]\n"
     ]
    }
   ],
   "source": [
    "N = 2\n",
    "H = Hamiltoniano(N, J, G)\n",
    "H.creacion_Hamiltoniano()\n",
    "H.mostrar_Hamiltoniano()\n"
   ]
  },
  {
   "cell_type": "code",
   "execution_count": 12,
   "id": "1d2605a9-666a-4bf1-8316-f1fafa4df856",
   "metadata": {},
   "outputs": [
    {
     "name": "stdout",
     "output_type": "stream",
     "text": [
      "[[-1. -1. -1.  0.]\n",
      " [-1.  1.  0. -1.]\n",
      " [-1.  0.  1. -1.]\n",
      " [ 0. -1. -1. -1.]]\n"
     ]
    }
   ],
   "source": [
    "R = np.kron(pauli_z,pauli_z)\n",
    "A = np.kron(pauli_x,identidad)\n",
    "C = np.kron(identidad,pauli_x)\n",
    "print((-R)-(A+C))"
   ]
  }
 ],
 "metadata": {
  "kernelspec": {
   "display_name": "Python 3 (ipykernel)",
   "language": "python",
   "name": "python3"
  },
  "language_info": {
   "codemirror_mode": {
    "name": "ipython",
    "version": 3
   },
   "file_extension": ".py",
   "mimetype": "text/x-python",
   "name": "python",
   "nbconvert_exporter": "python",
   "pygments_lexer": "ipython3",
   "version": "3.12.3"
  }
 },
 "nbformat": 4,
 "nbformat_minor": 5
}
