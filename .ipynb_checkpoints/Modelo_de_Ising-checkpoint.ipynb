{
 "cells": [
  {
   "cell_type": "markdown",
   "id": "4cf8c668",
   "metadata": {},
   "source": [
    "En este proyecto queremos resolver la evolución temporal de un sistema cuántico, el cual está gobernado por la ecuación de Schrödinger:\n",
    "\n",
    "\\begin{equation}\n",
    "\\frac{\\partial |\\psi(t)\\rangle}{\\partial t}  = -i \\hat{H} |\\psi(t)\\rangle, \n",
    "\\end{equation}\n",
    "cuya solución formal está dada por\n",
    "\\begin{equation}\n",
    "|\\psi(t)\\rangle = e^{-i \\hat{H} (t - t_0)} |\\psi(t= t_0)\\rangle .\n",
    "\\end{equation}\n",
    "\n",
    "El modelo de Ising en una dimensión corresponde a\n",
    "\n",
    "\\begin{equation}\n",
    "\\hat{H} = -J \\sum_{i=1}^N \\hat{\\sigma}_i^z \\hat{\\sigma}_{i+1}^z - g \\sum_{i=1}^N \\hat{\\sigma}_i^x.\n",
    "\\end{equation}\n",
    "\n",
    "Para resolver este problema, se plantean dos metodologías. Resolver la ecuación diferencial directamente de manera númerica o evaluar la exponencial de manera númerica. Para esto se va a utilizar el método de Runge-Kutta de orden 4 y la diagonalización del Hamiltoniano para evualuar la exponencial. \n"
   ]
  },
  {
   "cell_type": "code",
   "execution_count": 2,
   "id": "08a89db9-bc03-4ad8-8340-24bfcb4f3b7e",
   "metadata": {},
   "outputs": [],
   "source": [
    "import numpy as np\n",
    "import matplotlib.pyplot as plt\n",
    "import time"
   ]
  },
  {
   "cell_type": "markdown",
   "id": "e379b33b",
   "metadata": {},
   "source": [
    "Importamos las librerías necesarias utilizadas en la solución del problema\n",
    "* Numpy para poder realizar todos los cálculos numéricos. \n",
    "* Matplotlib para graficar todos los resultados obtenidos. \n",
    "* Time para poder medir el tiempo que tarda en ejecutarse las distintas metodologías (RK4 y Diagonalización) "
   ]
  },
  {
   "cell_type": "code",
   "execution_count": 3,
   "id": "7fb0743b-1362-4172-a195-0e2d44105c57",
   "metadata": {},
   "outputs": [],
   "source": [
    "class Clase_Hamiltoniano:\n",
    "    def __init__(self, N, J, G, matrices_pauli):\n",
    "        self.N = N  # Número de spins (o iteraciones)\n",
    "        self.J = J  # Interacción entre spins\n",
    "        self.G = G  # Campo magnético\n",
    "        self.pauli_x, self.pauli_y, self.pauli_z, self.identidad = matrices_pauli\n",
    "        # Inicializa el Hamiltoniano como una matriz de ceros de tamaño 2^N x 2^N\n",
    "        self.matriz_hamiltoniano = np.zeros((2**N, 2**N)) \n",
    "\n",
    "    # Método para calcular el producto directo de matrices\n",
    "    def productodirecto(self, lista_matrices):\n",
    "        resultado = lista_matrices[0]  # Inicializa el resultado con la primera matriz\n",
    "        for k in lista_matrices[1:]:  # Itera sobre las matrices restantes\n",
    "            resultado = np.kron(resultado, k)  # Calcula el producto de Kronecker\n",
    "        return resultado\n",
    "    \n",
    "    # Método para construir el Hamiltoniano del modelo Ising\n",
    "    def creacion_Hamiltoniano(self):\n",
    "        # Parte del Hamiltoniano relacionada con pauli_z\n",
    "        for i in range(self.N - 1):\n",
    "            lista_matrices = [self.identidad] * self.N  # Crea una lista con N matrices identidad\n",
    "            lista_matrices[i] = self.pauli_z  # Sustituye la i-ésima posición por la matriz pauli_z\n",
    "            lista_matrices[i + 1] = self.pauli_z  # Sustituye la (i+1)-ésima posición por la matriz pauli_z\n",
    "            # Actualiza el Hamiltoniano \n",
    "            self.matriz_hamiltoniano -= self.J * self.productodirecto(lista_matrices)  \n",
    "\n",
    "        # Parte del Hamiltoniano relacionada con el pauli_x\n",
    "        for i in range(self.N):\n",
    "            lista_matrices = [self.identidad] * self.N  # Crea otra lista con N matrices identidad\n",
    "            lista_matrices[i] = self.pauli_x  # Sustituye la i-ésima posición por la matriz pauli_x\n",
    "            # Actualiza el Hamiltoniano \n",
    "            self.matriz_hamiltoniano -= self.G * self.productodirecto(lista_matrices) \n",
    "        \n",
    "    # Método para mostrar el Hamiltoniano\n",
    "    def mostrar_Hamiltoniano(self):\n",
    "        print(self.matriz_hamiltoniano)  # Imprime el Hamiltoniano"
   ]
  },
  {
   "cell_type": "markdown",
   "id": "66b1d2b3",
   "metadata": {},
   "source": [
    "Creamos una clase llamada Hamiltoniano, la cual contiene como atributos, el número de spines, el campo magnético y la interacción entre espines. También contiene las matrices de Pauli que va a utilizar para el cálculo. "
   ]
  },
  {
   "cell_type": "code",
   "execution_count": 4,
   "id": "dfe128ee",
   "metadata": {},
   "outputs": [],
   "source": [
    "# Matrices de Pauli y la matriz identidad\n",
    "paulix = np.array([[0, 1],\n",
    "                    [1, 0]])  # Matriz de Pauli X\n",
    "pauliy = np.array([[0, 1j],\n",
    "                    [-1j, 0]])  # Matriz de Pauli Y\n",
    "pauliz = np.array([[1, 0],\n",
    "                    [0, -1]])  # Matriz de Pauli Z\n",
    "identidad = np.eye(2)  # Matriz identidad de 2x2\n",
    "\n",
    "Matrices = [paulix, pauliy, pauliz, identidad] # Lista con las matrices necesarias"
   ]
  },
  {
   "cell_type": "markdown",
   "id": "e9d8e3ec",
   "metadata": {},
   "source": [
    "Definimos las matrices de Pauli y la identidad. Las guardamos en una lista para pasarlas como argumento del Hamiltoniano y de esta manera no sean variables globales."
   ]
  },
  {
   "cell_type": "code",
   "execution_count": 5,
   "id": "1bfd3673",
   "metadata": {},
   "outputs": [],
   "source": [
    "# Parámetros del modelo Ising\n",
    "N = np.array([2, 10]) #Vamos a visualizar la dinámica para dos valores de N\n",
    "Interaccion_de_espines = 1.0  #Interacción entre espines\n",
    "Campo_magnetico_externo = 1.0  #Campo magnético externo"
   ]
  },
  {
   "cell_type": "markdown",
   "id": "5519829f",
   "metadata": {},
   "source": [
    "Declaramos las variables del número de espines, la interacción entre estos y el campo magnético externo. Creamos una instancia de la clase Hamiltoniano. Imprimimos el resultado para verificar que el resultado esté correcto. Ahora procederemos a utilizarlo para resolver la ecuación diferencial utilizando el método RK4, y posteriormente se utilizará para resolver mediante el método de diagonalización."
   ]
  },
  {
   "cell_type": "code",
   "execution_count": 6,
   "id": "b05a39de-3b32-4e21-b17f-cb457e4ce98f",
   "metadata": {},
   "outputs": [],
   "source": [
    "# Definición de la ecuación de Schrödinger con h = 1\n",
    "def Ec_Schrodinger(H, onda):\n",
    "    return -1j * np.dot(H, onda) \n",
    "\n",
    "# Método de Runge-Kutta de cuarto orden (RK4)\n",
    "def rk4(func, H, onda, h):\n",
    "    k1 = h * func(H, onda)\n",
    "    k2 = h * func(H, onda + 0.5 * k1)\n",
    "    k3 = h * func(H, onda + 0.5 * k2)\n",
    "    k4 = h * func(H, onda + k3)\n",
    "    \n",
    "    return onda + (1/6) * (k1 + 2 * k2 + 2 * k3 + k4)"
   ]
  },
  {
   "cell_type": "markdown",
   "id": "0ed0bd6b",
   "metadata": {},
   "source": [
    "Establecemos una función para la ecuación de Schrodinger y también una función que ejecuta el método de Runge-Kutta de orden 4. \n",
    "Ahora vamos a utilizar este método para resolver la ecuación diferencial."
   ]
  },
  {
   "cell_type": "code",
   "execution_count": null,
   "id": "e860a034",
   "metadata": {},
   "outputs": [
    {
     "name": "stdout",
     "output_type": "stream",
     "text": [
      "El método RK4 para N = 2 duró: 0.0463s\n"
     ]
    }
   ],
   "source": [
    "# Configuración de tiempos y condiciones iniciales\n",
    "times = np.linspace(0.0, 10.0, 1000) # Tiempo\n",
    "h = times[1] - times[0] # Espaciamiento\n",
    "resultado = np.zeros(times.size) # Array con el resultado obtenido\n",
    "\n",
    "t1 = time.time() # Para medir cuanto dura el método\n",
    "# N es un array con 2 y 10\n",
    "for n in range(N.size):\n",
    "    Hamiltoniano = Clase_Hamiltoniano(N[n], Interaccion_de_espines, Campo_magnetico_externo, Matrices)  \n",
    "    # Crea un Hamiltoniano de tamaño (2**N[n],2**N[n])\n",
    "    Hamiltoniano.creacion_Hamiltoniano()  # Construye el Hamiltoniano\n",
    "    \n",
    "    onda = np.zeros(2**N[n]) # Onda a estudiar\n",
    "    onda[0] = 1.0 # Estado inicial de la onda\n",
    "    \n",
    "    # Evolución en el tiempo\n",
    "    for t in range(times.size):\n",
    "        resultado[t] = onda[0].real\n",
    "        onda = rk4(Ec_Schrodinger, Hamiltoniano.matriz_hamiltoniano, onda, h)\n",
    "    print(f\"El método RK4 para N = {N[n]} duró: {time.time() - t1:.4f}s\") \n",
    "    # Tiempo que duró en realizarse el método\n",
    "    # Grafica el resultado\n",
    "    plt.plot(times, resultado, label=f\"Parte real de Psi(t) con N = {N[n]}\", color=f\"C{n}\")\n",
    "    \n",
    "#Fuera del for para tener los dos resultados ploteados a la vez\n",
    "#Se etiquetan los ejes y se muestra la leyenda\n",
    "plt.xlabel(\"Tiempo (t)\", fontsize=12)\n",
    "plt.ylabel(\"Re[Psi(t)]\", fontsize=12)\n",
    "plt.legend()    \n",
    "plt.show()"
   ]
  },
  {
   "cell_type": "markdown",
   "id": "2431d1a9",
   "metadata": {},
   "source": [
    "El resultado obtenido y graficado es la primera entrada de la onda para cada tiempo $t$. Esto representa la probabilidad de que todos los electrones estén con el mismo espín en ese tiempo. Vemos que para N = 2, la probabilidad cambia de manera lenta en comparación a N = 10. Donde el resultado varía mucho y muy rápido."
   ]
  },
  {
   "cell_type": "markdown",
   "id": "0fa5d5e9",
   "metadata": {},
   "source": [
    "Ahora se procede a implementar la solución utilizando la diagonalización del hamiltoniano."
   ]
  },
  {
   "cell_type": "code",
   "execution_count": null,
   "id": "1d2605a9-666a-4bf1-8316-f1fafa4df856",
   "metadata": {},
   "outputs": [],
   "source": [
    "def evolucion_temporal(onda_inicial, t, autovalores, autovectores):\n",
    "    # Se calcula la representación de la onda inicial en la base de los autovectores.\n",
    "    onda_nueva = np.dot(autovectores.conj().T, onda_inicial)\n",
    "    \n",
    "    # La evolución temporal de la onda se realiza multiplicando los autovectores \n",
    "    # por la exponencial de los autovalores multiplicados por el tiempo t \n",
    "    onda_t = np.dot(autovectores, np.exp(-1j * autovalores * t) * onda_nueva)\n",
    "    \n",
    "    return onda_t"
   ]
  },
  {
   "cell_type": "markdown",
   "id": "146f8ed1",
   "metadata": {},
   "source": []
  },
  {
   "cell_type": "code",
   "execution_count": null,
   "id": "2621839e",
   "metadata": {},
   "outputs": [],
   "source": [
    "# Se mide el tiempo inicial para evaluar el rendimiento \n",
    "tiempo_inicial = time.time()\n",
    "\n",
    "# N = [2,10]\n",
    "for n in range(N.size):\n",
    "    Hamiltoniano = Clase_Hamiltoniano(N[n], Interaccion_de_espines, Campo_magnetico_externo, Matrices)\n",
    "    Hamiltoniano.creacion_Hamiltoniano() \n",
    "    # Este Hamiltoniano tiene tamaño (2**N[n], 2**N[n])\n",
    "    # Diagonalización del Hamiltoniano\n",
    "    autovalores, autovectores = np.linalg.eigh(Hamiltoniano.matriz_hamiltoniano) \n",
    "    \n",
    "    # Se crea y define el estado inicial de la onda \n",
    "    onda_inicial = np.zeros(2**N[n])  \n",
    "    onda_inicial[0] = 1.0  \n",
    "\n",
    "    # Se define un array vacío para almacenar los resultados a lo largo del tiempo, utilizando\n",
    "    # el mismo times que en el método anterior\n",
    "    resultado2 = np.zeros(times.size) \n",
    "    \n",
    "    for t in range(times.size):\n",
    "        # Se calcula la onda evolucionada en el tiempo usando los autovalores y autovectores\n",
    "        onda_t = evolucion_temporal(onda_inicial, times[t], autovalores, autovectores) \n",
    "        # Se guarda la parte real del primer componente de la onda en `resultado2`\n",
    "        resultado2[t] = onda_t[0].real\n",
    "\n",
    "    # Se calcula el tiempo que ha tardado el método\n",
    "    print(f\"Tiempo para N = {N[n]}: {time.time() - tiempo_inicial:.4f} s\")  \n",
    "    plt.plot(times, resultado2.real, label=f\"Parte real de Psi(t) con N = {N[n]}\", color=f\"C{n}\")  \n",
    "    \n",
    "# Se etiquetan los ejes y se muestra la leyenda\n",
    "plt.xlabel('Tiempo')\n",
    "plt.ylabel(\"Re[Psi(t)]\", fontsize=12)\n",
    "plt.legend()\n",
    "plt.show()"
   ]
  },
  {
   "cell_type": "markdown",
   "id": "7a543ba7",
   "metadata": {},
   "source": [
    "Se observa que con esta metodología se evidencia el mismo comportamiento tanto para N = 2 como N = 10. También se observa que el método de diagonalización posee un tiempo de ejecución menor al método RK4. "
   ]
  }
 ],
 "metadata": {
  "kernelspec": {
   "display_name": "Python 3 (ipykernel)",
   "language": "python",
   "name": "python3"
  },
  "language_info": {
   "codemirror_mode": {
    "name": "ipython",
    "version": 3
   },
   "file_extension": ".py",
   "mimetype": "text/x-python",
   "name": "python",
   "nbconvert_exporter": "python",
   "pygments_lexer": "ipython3",
   "version": "3.12.3"
  }
 },
 "nbformat": 4,
 "nbformat_minor": 5
}
